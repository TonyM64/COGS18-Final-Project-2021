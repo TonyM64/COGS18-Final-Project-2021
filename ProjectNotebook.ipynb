{
 "cells": [
  {
   "cell_type": "markdown",
   "metadata": {},
   "source": [
    "# Final Project: Dragon Ball Quiz!"
   ]
  },
  {
   "cell_type": "markdown",
   "metadata": {},
   "source": [
    "## Description:\n",
    "\n",
    "For my final project I decided to make a Dragon Ball Quiz.\n",
    "\n",
    "I grew up watching the anime and reading the manga for as long as I can remember. For this project, I decided to make this quiz that asks you 10 questions about the Dragon Ball franchise.\n",
    "\n",
    "To create this whole thing, I made a class called \"Questions\", which has to be imported. It has a method with two inputs, because as I was going through the creation of this quiz, realized that I really only needed two. Those two inputs are \"multiple_choice\" and \"answer\". By caalling on this class in this notebook, the list of questions asked, and insert them as its \"multiple choice\" input, with their correct answer being inserted as the \"answer\" input.\n",
    "\n",
    "The next thing I did was that I imported the required three functions I created in the functions.py file, **\"multiple_choice\"**, **\"maximum_score\"** and **\"begin_test\"**:\n",
    "\n",
    "* The function **\"multiple_choice\"** is a function that takes an input for the assigned question and adds a point to the test taker's score if they get the question right.\n",
    "* The function **\"maximum_score\"** is a function that takes in a input from 0 to 10, and it prints a string with a message that corresponds to the amount of questions you get right.\n",
    "* The function **\"begin_test\"** will run the questions using a for loop and add 1 to score if you got the previous question correct. At the end of the loop, it will call the maximum_score fucntion. When it does this, it'll take your score, whatever it may be, as an input and return a message unique to your score out of 10.\n",
    "\n",
    "After doing this, I created a list called \"questions_multiple_choice\". This list has a list of questions followed by the 4 possible answers: a, b, c, and d. Then I assigned each question in that list to the \"multiple_choice\" input/method of my \"Questions\" class. The correct response to each question is assigned in string from the class \"answer\". Then I named a variable \"questions\" and assigned this new list to it. \n",
    "\n",
    "The last thing I did was that I ran the \"begin_test\" function and insert list \"questions\" as inputs. This initiates the loop through the questions, thus starting the quiz.\n",
    "\n",
    "All there is to do now is to take the quiz\n",
    "I hope you have fun!!!!"
   ]
  },
  {
   "cell_type": "markdown",
   "metadata": {},
   "source": [
    "## Project Code\n",
    "\n",
    "If it makes sense for your project, you can have code and outputs here in the notebook as well."
   ]
  },
  {
   "cell_type": "code",
   "execution_count": 1,
   "metadata": {},
   "outputs": [],
   "source": [
    "from my_module.functions import begin_test\n",
    "from my_module.functions import maximum_score\n",
    "from my_module.functions import multiple_choice\n",
    "\n",
    "from my_module.classes import Questions"
   ]
  },
  {
   "cell_type": "code",
   "execution_count": 2,
   "metadata": {},
   "outputs": [],
   "source": [
    "#Below are ten questions, 0-9.\n",
    "#Within each index, there is a string, all of them contain a question. \n",
    "#Questions 0-9 are followed by the 4 possible answers, a, b, c, and d. \n",
    "\n",
    "questions_multiple_choice = [\"What race is Goku?\\n(a) Namekian\\n(b) Saiyan\\n(c) Earthling\\n(d) Kryptonian\\n\\n\",\n",
    "                             \"What path leads to King Kai's house?\\n(a) Snake Way\\n(b) Tiger Path\\n(c) The Yellow Brick Road\\n(d) Dragon Road\\n\\n\",\n",
    "                             \"Who was the second person to kill Goku?\\n(a) Raditz\\n(b) Vegeta\\n(c) Piccolo\\n(d) Cell\\n\\n\",\n",
    "                             \"Who created the dragon balls on Earth?\\n(a) Grand Elder Guru\\n(b) Supreme Kai\\n(c) Kami\\n(d) King Kai\\n\\n\",\n",
    "                             \"What can be eaten to recover all wounds?\\n(a) Senzu Beans\\n(b) Dragon Balls\\n(c) Steriods\\n(d) Namekian Egg\\n\\n\",\n",
    "                             \"How did imperfect Cell get stronger after arriving from the future?\\n(a) Dragon Balls\\n(b) Training\\n(c) Solar Power\\n(d) Absorbing Humans\\n\\n\",\n",
    "                             \"Knowing he needed more power to fight the Androids, with whom did Piccolo fuse?\\n(a) Kami\\n(b) Goku\\n(c) Thanos\\n(d) Vegeta\\n\\n\",\n",
    "                             \"What is the name of Vegeta's dad?\\n(a) Bardock\\n(b) Lord Frieza\\n(c) Captain Ginyu\\n(d) King Vegeta\\n\\n\",\n",
    "                             \"What happens when a Saiyan with a tail sees the Moon?\\n(a) Turns into a Werewolfe\\n(b) Turn into a Great Ape\\n(c) Nothing\\n(d) Turns into a Sailor Scout\\n\\n\",\n",
    "                             \"Who is the strongest character in the series?\\n(a) Akira Toriyama\\n(b) Whis\\n(c) The Omni King\\n(d) Beerus\\n\\n\"]\n"
   ]
  },
  {
   "cell_type": "code",
   "execution_count": 3,
   "metadata": {},
   "outputs": [],
   "source": [
    "#Here we call on our Question class to assign strings as its questions and answers for it's one method. \n",
    "#I then assign this all to a variable called \"questions\".\n",
    "questions = [Questions(questions_multiple_choice[0],\"b\"),\n",
    "            #Assigning the string in the 0 index from the \"questions_multiple_choice\", and assigning \"d\" as correct answer.\n",
    "            Questions(questions_multiple_choice[1],\"a\"),\n",
    "            #Assigning the string in the 1 index from the \"questions_multiple_choice\", and assigning \"d\" as correct answer. \n",
    "            Questions(questions_multiple_choice[2],\"d\"),\n",
    "            #Assigning the string in the 2 index from the \"questions_multiple_choice\", and assigning \"a\" as correct answer. \n",
    "            Questions(questions_multiple_choice[3],\"c\"),\n",
    "            #Assigning the string in the 3 index from the \"questions_multiple_choice\", and assigning \"b\" as correct answer. \n",
    "            Questions(questions_multiple_choice[4],\"a\"),\n",
    "            #Assigning the string in the 4 index from the \"questions_multiple_choice\", and assigning \"a\" as correct answer. \n",
    "            Questions(questions_multiple_choice[5],\"d\"),\n",
    "            #Assigning the string in the 5 index from the \"questions_multiple_choice\", and assigning \"d\" as correct answer. \n",
    "            Questions(questions_multiple_choice[6],\"a\"),\n",
    "            #Assigning the string in the 6 index from the \"questions_multiple_choice\", and assigning \"a\" as correct answer. \n",
    "            Questions(questions_multiple_choice[7],\"d\"),\n",
    "            #Assigning the string in the 7 index from the \"questions_multiple_choice\", and assigning \"d\" as correct answer. \n",
    "            Questions(questions_multiple_choice[8],\"b\"),\n",
    "            #Assigning the string in the 8 index from the \"questions_multiple_choice\", and assigning \"b\" as correct answer. \n",
    "            Questions(questions_multiple_choice[9],\"c\")]\n",
    "            #Assigning the string in the 9 index from the \"questions_multiple_choice\", and assigning \"c\" as correct answer.\n"
   ]
  },
  {
   "cell_type": "code",
   "execution_count": null,
   "metadata": {},
   "outputs": [],
   "source": [
    "#Running the begin_test function, with questions from above as inputs, will start the quiz.\n",
    "#Feel free to run this function again when you're done so you can play again!\n",
    "begin_test(questions)"
   ]
  },
  {
   "cell_type": "markdown",
   "metadata": {},
   "source": [
    "#### Extra Credit (*optional*)\n",
    "\n",
    "1. Prior to taking this class, I had absolutely no coding experience. Since begining this clas, I've been able to get a great basis for coding.\n",
    "2. I don't believe that I went above and beyond on this project, I wanted to stay within the span of my limits when it comes to coding. The only time that I stepped outside of that was when I had to learn mock testing when testing my functions. "
   ]
  },
  {
   "cell_type": "code",
   "execution_count": null,
   "metadata": {},
   "outputs": [],
   "source": [
    "# The code below tests my functions stored in test_functions.py\n",
    "!pytest my_module/test_functions.py"
   ]
  }
 ],
 "metadata": {
  "kernelspec": {
   "display_name": "Python 3",
   "language": "python",
   "name": "python3"
  },
  "language_info": {
   "codemirror_mode": {
    "name": "ipython",
    "version": 3
   },
   "file_extension": ".py",
   "mimetype": "text/x-python",
   "name": "python",
   "nbconvert_exporter": "python",
   "pygments_lexer": "ipython3",
   "version": "3.8.6"
  }
 },
 "nbformat": 4,
 "nbformat_minor": 2
}
